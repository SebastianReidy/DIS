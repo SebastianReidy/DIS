{
 "cells": [
  {
   "cell_type": "markdown",
   "metadata": {},
   "source": [
    "# Distributed Information Systems\n",
    "\n",
    "***Final Exam, Spring Semester, 2020***\n",
    "\n",
    "The exam will be held on your computer, but digital communication by any means is **strictly prohibited**. You are allowed, though, to use *StackOverflow* or similar websites to resolve syntax-related Python errors. \n",
    "The following materials are also allowed: exercise sheets and solutions, past exams with your own solution, personally written notes and personally collected documentation.\n",
    "By participating in this exam you **agree to these conditions**.\n",
    "\n",
    "These are the instructions for the exam:\n",
    "\n",
    "- You are not allowed to leave the examination room in the first 20 and the last 15 minutes of the exam.\n",
    "- The quiz will remain open **only for the first 2 hours** of the exam to avoid network congestion.\n",
    "- **30 minutes** before the end of the exam we will announce a password to upload your jupyter notebook on Moodle.\n",
    "- It is not recommended to leave the exam before the password is published. If you need to leave earlier, contact us."
   ]
  },
  {
   "cell_type": "markdown",
   "metadata": {
    "toc": true
   },
   "source": [
    "<h1>Table of Contents<span class=\"tocSkip\"></span></h1>\n",
    "<div class=\"toc\"><ul class=\"toc-item\"><li><span><a href=\"#0-Rename-your-Notebook\" data-toc-modified-id=\"0-Rename-your-Notebook-0\">0 Rename your Notebook</a></span></li><li><span><a href=\"#1-Multiple-Choice-Questions\" data-toc-modified-id=\"1-Multiple-Choice-Questions-1\">1 <a href=\"https://moodle.epfl.ch/mod/quiz/view.php?id=1026316\" target=\"_blank\">Multiple Choice Questions</a></a></span></li><li><span><a href=\"#2-Implementing-a-Rule-Based-Approach-for-Entity-Disambiguation\" data-toc-modified-id=\"2-Implementing-a-Rule-Based-Approach-for-Entity-Disambiguation-2\">2 Implementing a Rule-Based Approach for Entity Disambiguation</a></span><ul class=\"toc-item\"><li><span><a href=\"#2.1-Learning-rules\" data-toc-modified-id=\"2.1-Learning-rules-2.1\">2.1 Learning rules</a></span></li><li><span><a href=\"#2.2-Finding-new-rules-using-bootstrapping\" data-toc-modified-id=\"2.2-Finding-new-rules-using-bootstrapping-2.2\">2.2 Finding new rules using bootstrapping</a></span></li></ul></li><li><span><a href=\"#3-Academic-Communities\" data-toc-modified-id=\"3-Academic-Communities-3\">3 Academic Communities</a></span><ul class=\"toc-item\"><li><span><a href=\"#3.1-Modularity\" data-toc-modified-id=\"3.1-Modularity-3.1\">3.1 Modularity</a></span></li><li><span><a href=\"#3.2-Community-Detection\" data-toc-modified-id=\"3.2-Community-Detection-3.2\">3.2 Community Detection</a></span></li><li><span><a href=\"#3.3-Community-Influencers\" data-toc-modified-id=\"3.3-Community-Influencers-3.3\">3.3 Community Influencers</a></span></li><li><span><a href=\"#3.4-Connectivity-Based-Community-Ranking\" data-toc-modified-id=\"3.4-Connectivity-Based-Community-Ranking-3.4\">3.4 Connectivity-Based Community Ranking</a></span></li><li><span><a href=\"#3.5-Personalized-Community-Ranking\" data-toc-modified-id=\"3.5-Personalized-Community-Ranking-3.5\">3.5 Personalized Community Ranking</a></span></li><li><span><a href=\"#3.6-TF-IDF-Community-Ranking\" data-toc-modified-id=\"3.6-TF-IDF-Community-Ranking-3.6\">3.6 TF-IDF Community Ranking</a></span></li><li><span><a href=\"#3.7-Rankings-Correlation\" data-toc-modified-id=\"3.7-Rankings-Correlation-3.7\">3.7 Rankings Correlation</a></span></li></ul></li><li><span><a href=\"#4-Submit--your-Notebook\" data-toc-modified-id=\"4-Submit--your-Notebook-4\">4 <a href=\"https://moodle.epfl.ch/mod/quiz/view.php?id=1026302\" target=\"_blank\">Submit  your Notebook</a></a></span></li></ul></div>"
   ]
  },
  {
   "cell_type": "markdown",
   "metadata": {},
   "source": [
    "## 0 Rename your Notebook\n",
    "Replace SciperNo with your **personal SCIPER Number**."
   ]
  },
  {
   "cell_type": "markdown",
   "metadata": {},
   "source": [
    "## 1 [Multiple Choice Questions](https://moodle.epfl.ch/mod/quiz/view.php?id=1026316)\n"
   ]
  },
  {
   "cell_type": "markdown",
   "metadata": {},
   "source": [
    "## 2 Implementing a Rule-Based Approach for Entity Disambiguation"
   ]
  },
  {
   "cell_type": "markdown",
   "metadata": {},
   "source": [
    "### 2.1 Learning rules\n",
    "\n",
    "We would like to develop a rule-based approach to disambiguate the meaning of the term \"Apple\" in sentences into the two possible meanings **Tech** and **Fruit**. The rules use keyphrases i.e., n-grams of words, as features in their conditions. In the approach **only the top-k keyphrases** are considered. Before forming keyphrases, the words are stemmed, stopwords are not considered and uppercase words are converted to lowercase.\n",
    "\n",
    "An example of a possible rule would be:\n",
    "\n",
    "\tif \"fruit\" and \"facebook\" then \"Tech\"\n",
    "\n",
    "meaning that if a sentence that contains the term \"Apple\" also contains the unigrams \"fruit\" and \"facebook\" then the meaning of \"Apple\" should be the Apple technology company (**Tech**).\n",
    "\n",
    "More generally we write such rules as:\n",
    "\n",
    "\t{k1,...,kn} -> Tech or {k1,...,kn} -> Fruit\n",
    "    \n",
    "where k1,..,kn are arbitrary word n-grams and a set {k1,...,kn} is considered as an item set.\n",
    "\n",
    "As **training data** we obtain 10 sentences containing \"Apple\" that have been labelled by their meaning as T(ech) or F(ruit).\n",
    "\n",
    "    An apple is a fruit and good for health. (F)\n",
    "    Apple is a tech company. (T)\n",
    "    Tech companies like Apple and Facebook have big data centers (T)\n",
    "    For maintaining health eat one apple a day. (F)\n",
    "    A new Apple data center has been opened next to the one of Facebook. (T)\n",
    "    Apple has sold 1 million units in one day. (T)\n",
    "    Fruits, like apples and pears, are contaminated with pesticides.  (F)\n",
    "    A fruit salad contains apples, bananas and pears.  (F)\n",
    "    I saw a new apple recipe on Facebook.  (F)\n",
    "    Apple is increasingly processing health data. (T)\n",
    "\n",
    "**Stopwords** are: an, is, a, and, for, like, and, have, has, been, in, are, with, on, by, as, may, one, to, the, of.\n",
    "\n",
    "We define the **confidence** of a rule {k1,...,kn} -> T as the fraction between the number of sentences that contain all keyphrases k1,...,kn with label T over the number of sentences with all keyphrases k1,...,kn. Similar definition for {k1,...,kn} -> F.\n",
    "\n",
    "We define the **support** of an itemset as the number of sentences that contain all the n-grams in the itemset.\n",
    "\n",
    "**Questions:** \n",
    "1. Without considering the word \"apple\", determine the keyphrases with minimum document frequency of 2.\n",
    "2. Determine all itemsets of keyphrases with a minimum support of 2.\n",
    "3. Determine all rules that have a minimum support of 2 and a minimum confidence of 70%. Provide for each rule its support and confidence values. \n",
    "4. Explain how the apriori property could be exploited in optimizing the computation of those itemsets for composite keyphrases.\n",
    "\n",
    "Hint: the following are the top-10 document frequencies of terms.\n",
    "\n",
    "| Term        | Frequency           | \n",
    "| ------------- |:-------------:| \n",
    "|fruit | 3|\n",
    "|health | 3|\n",
    "|data | 3|\n",
    "|facebook | 3|\n",
    "|tech | 2|\n",
    "|compani | 2|\n",
    "|center | 2|\n",
    "|day | 2|\n",
    "|new | 2|\n",
    "|pear |2|"
   ]
  },
  {
   "cell_type": "markdown",
   "metadata": {},
   "source": [
    "***ANSWER:***\n",
    "\n"
   ]
  },
  {
   "cell_type": "markdown",
   "metadata": {},
   "source": [
    "### 2.2 Finding new rules using bootstrapping\n",
    "\n",
    "We are using the rules we have learnt now to find new sentences on Apple (e.g. using Google search) to increase our training data and thus learning new rules.\n",
    "\n",
    "Performing this approach we found 10 more sentences:\n",
    "\n",
    "    Apple and Facebook data center filed plans to expand data center operations in Prineville (T) \n",
    "    Apple, Facebook, Google Asked to Pay for Wind Parks in Denmark (T) \n",
    "    Google, Facebook and Apple lead on green data centers (T)\n",
    "    Apple to contest patent filed by Google. (T) \n",
    "    Green data centers are the new priority for Apple and Google. (T)\n",
    "    Green apples are an ideal ingredient for fruit salad. (F)\n",
    "    Apple Pears have been described as the hottest new item since the Kiwi (F)\n",
    "    Join Facebook to connect with Apples Pear and others you may know (F)\n",
    "    An apple is a sweet, edible fruit produced by an apple tree (F)\n",
    "    An apple a day keeps the doctor away (F)\n",
    "\n",
    "**Questions:** \n",
    "\n",
    "1. Given that the size of the training set has increased, should confidence and/or support threshold be adapted and how?\n",
    "2. Identify all new rules with adapted confidence and support threshold that can be derived from the training set that has been enlarged by the examples that have been retrieved using a bootstrapping approach.\n",
    "3. Once you found a new rule, explain how you would proceed to verify that the new rule does not introduce semantic shift."
   ]
  },
  {
   "cell_type": "markdown",
   "metadata": {},
   "source": [
    "***ANSWER:***\n",
    "\n"
   ]
  },
  {
   "cell_type": "markdown",
   "metadata": {},
   "source": [
    "## 3 Academic Communities\n",
    "The dataset you are about to explore is a snapshot of the **retweet network** among official accounts of universities and academic institutes. The **nodes** of the network are twitter handles (usernames), while the **edges** are attributed with a **label**, which was extracted from the topic of the tweet, and a **weight**, which depicts the popularity of the original tweet."
   ]
  },
  {
   "cell_type": "code",
   "execution_count": 3,
   "metadata": {},
   "outputs": [],
   "source": [
    "import numpy as np\n",
    "import pandas as pd\n",
    "import networkx as nx\n",
    "from networkx.algorithms import community\n",
    "from sklearn.feature_extraction.text import TfidfVectorizer\n",
    "from sklearn.metrics.pairwise import cosine_similarity"
   ]
  },
  {
   "cell_type": "code",
   "execution_count": 4,
   "metadata": {},
   "outputs": [],
   "source": [
    "G = nx.from_pandas_edgelist(pd.read_csv('uni_network.csv'), 'Source', 'Target', edge_attr=['Label', 'Weight'])"
   ]
  },
  {
   "cell_type": "markdown",
   "metadata": {},
   "source": [
    "### 3.1 Modularity\n",
    "- Implement the modularity metric for communities.\n",
    "- Use the toy example and the assertion below to validate your results.\n",
    "- Hint: You can reuse code from the exercise sessions."
   ]
  },
  {
   "cell_type": "code",
   "execution_count": 30,
   "metadata": {},
   "outputs": [],
   "source": [
    "def communities_modularity(G, nodes_community):\n",
    "    m = len(G.edges)\n",
    "    Q = 0\n",
    "    # your code here\n",
    "    for u in G.nodes: \n",
    "        for v in G.nodes: \n",
    "            if nodes_community[u] == nodes_community[v]: \n",
    "                Q += G.number_of_edges(u,v) - G.degree(u)*G.degree(v) / 2 /G.number_of_edges()\n",
    "    return Q/(2*m)\n",
    "\n",
    "Q = communities_modularity(nx.Graph([(1, 2), (2, 3), (3, 1)]), {1:'a', 2:'a', 3:'a'})\n",
    "assert (round(Q, 4) == 0.0)"
   ]
  },
  {
   "cell_type": "markdown",
   "metadata": {},
   "source": [
    "### 3.2 Community Detection\n",
    "\n",
    "- In the following cells you are given two snippets of code for community detection:\n",
    "    - The first approach (`network_structure_communities`) computes communities based on the **network structure**. The algorithm that is used is the *Clauset-Newman-Moore greedy modularity maximization* and is similar to the *Louvain modularity maximization*.\n",
    "    - The second approach (`nodes_label_communities`) computes communities based on the **labels of the graph nodes**. The label of a node is determined by the dominant label of its edges. All nodes with the same label belong to the same community.\n",
    "\n",
    "- Based on the statistics that we present below, discuss what are the **pros and cons** of each approach.\n",
    "- Note: You don't have to code for this task."
   ]
  },
  {
   "cell_type": "code",
   "execution_count": 31,
   "metadata": {},
   "outputs": [],
   "source": [
    "def network_structure_communities(G):\n",
    "    nodes_community = community.greedy_modularity_communities(G, weight='Weight')\n",
    "    nodes_community = {i:indx for indx, c in enumerate(nodes_community) for i in c}\n",
    "    nodes_community = {n:nodes_community[n] for n in G.nodes}\n",
    "    return nodes_community"
   ]
  },
  {
   "cell_type": "code",
   "execution_count": 32,
   "metadata": {},
   "outputs": [],
   "source": [
    "def nodes_label_communities(G):\n",
    "    nodes_community = {}\n",
    "    for n in G.nodes():\n",
    "        labels = [[e[2]['Label']]*e[2]['Weight'] for e in G.edges(n, data=True)]\n",
    "        labels = [item for l in labels for item in l]\n",
    "        nodes_community[n] = max(set(labels), key = labels.count)\n",
    "    return nodes_community"
   ]
  },
  {
   "cell_type": "code",
   "execution_count": 33,
   "metadata": {},
   "outputs": [
    {
     "data": {
      "text/html": [
       "<div>\n",
       "<style scoped>\n",
       "    .dataframe tbody tr th:only-of-type {\n",
       "        vertical-align: middle;\n",
       "    }\n",
       "\n",
       "    .dataframe tbody tr th {\n",
       "        vertical-align: top;\n",
       "    }\n",
       "\n",
       "    .dataframe thead th {\n",
       "        text-align: right;\n",
       "    }\n",
       "</style>\n",
       "<table border=\"1\" class=\"dataframe\">\n",
       "  <thead>\n",
       "    <tr style=\"text-align: right;\">\n",
       "      <th></th>\n",
       "      <th>Communities Count</th>\n",
       "      <th>Average Community Size</th>\n",
       "      <th>Modularity</th>\n",
       "    </tr>\n",
       "    <tr>\n",
       "      <th></th>\n",
       "      <th></th>\n",
       "      <th></th>\n",
       "      <th></th>\n",
       "    </tr>\n",
       "  </thead>\n",
       "  <tbody>\n",
       "    <tr>\n",
       "      <th>1st approach</th>\n",
       "      <td>453</td>\n",
       "      <td>3.192053</td>\n",
       "      <td>0.919974</td>\n",
       "    </tr>\n",
       "    <tr>\n",
       "      <th>2nd approach</th>\n",
       "      <td>30</td>\n",
       "      <td>48.200000</td>\n",
       "      <td>0.688818</td>\n",
       "    </tr>\n",
       "  </tbody>\n",
       "</table>\n",
       "</div>"
      ],
      "text/plain": [
       "              Communities Count  Average Community Size  Modularity\n",
       "                                                                   \n",
       "1st approach                453                3.192053    0.919974\n",
       "2nd approach                 30               48.200000    0.688818"
      ]
     },
     "execution_count": 33,
     "metadata": {},
     "output_type": "execute_result"
    }
   ],
   "source": [
    "def compare_approaches(G):\n",
    "    nodes_community_1 = network_structure_communities(G)\n",
    "    nodes_community_2 = nodes_label_communities(G)\n",
    "    communities_count_1 = len(set(nodes_community_1.values()))\n",
    "    communities_count_2 = len(set(nodes_community_2.values()))\n",
    "\n",
    "    return pd.DataFrame.from_dict([{'':'1st approach', 'Communities Count':communities_count_1, 'Average Community Size':len(G.nodes())/communities_count_1, 'Modularity':communities_modularity(G, nodes_community_1)},\\\n",
    "                                   {'':'2nd approach', 'Communities Count':communities_count_2, 'Average Community Size':len(G.nodes())/communities_count_2, 'Modularity':communities_modularity(G, nodes_community_2)}]).set_index('')\n",
    "\n",
    "compare_approaches(G)"
   ]
  },
  {
   "attachments": {},
   "cell_type": "markdown",
   "metadata": {},
   "source": [
    "***ANSWER:*** the first approach reaches a higher modularity but it also returns more clusters. The second approach has reasonable size clusters but on the other hand the modularity is not so high. "
   ]
  },
  {
   "cell_type": "markdown",
   "metadata": {},
   "source": [
    "In the following tasks we will use the communities that are detected by the **second approach**."
   ]
  },
  {
   "cell_type": "code",
   "execution_count": 34,
   "metadata": {},
   "outputs": [],
   "source": [
    "nodes_community = nodes_label_communities(G)\n",
    "communities = list(set(nodes_community.values()))\n",
    "communities_count = len(communities)\n",
    "default_ranking = {c:0.0 for c in communities}"
   ]
  },
  {
   "cell_type": "markdown",
   "metadata": {},
   "source": [
    "### 3.3 Community Influencers\n",
    "- Isolate each community from the graph. \n",
    "- Select the node with the **maximum pagerank** within each community as the **influencer** of that community.\n",
    "- Break ties arbitrarily.\n",
    "- Hint: Useful functions: `nx.pagerank()`, `G.subgraph()`."
   ]
  },
  {
   "cell_type": "code",
   "execution_count": 35,
   "metadata": {
    "scrolled": true
   },
   "outputs": [
    {
     "data": {
      "text/plain": [
       "[('architecture', 'UniofGreenwich'),\n",
       " ('artificial intelligence', 'HECParis'),\n",
       " ('astronomy', 'HistAstro'),\n",
       " ('biological', 'hoterminus'),\n",
       " ('cancer', 'QMSU'),\n",
       " ('cell', 'GilesYeo'),\n",
       " ('chemistry', 'UniofNottingham'),\n",
       " ('climate change', 'meganrowling'),\n",
       " ('computer science', 'UniofHerts'),\n",
       " ('criminology', 'SocScience_Crim'),\n",
       " ('cyber security', 'aurelsec'),\n",
       " ('diabetes', 'BodleianHCL'),\n",
       " ('drones', 'HarperAdamsUni'),\n",
       " ('economics', 'GroupHarding'),\n",
       " ('entrepreneurship', 'wlv_uni'),\n",
       " ('geography', 'drheatherprice'),\n",
       " ('healthcare', 'VoiceofNursing_'),\n",
       " ('infection', 'UofGMVLS'),\n",
       " ('innovation', 'tcddublin'),\n",
       " ('medicine', 'boucherhayes'),\n",
       " ('neuroscience', 'ArtScienceDoc'),\n",
       " ('pathways', 'stevenawoor'),\n",
       " ('patients', 'UCL_OVPA'),\n",
       " ('physicist', 'royalsociety'),\n",
       " ('physics', 'UEuropea'),\n",
       " ('psychology', 'BPSOfficial'),\n",
       " ('robotics', 'Phil_Baty'),\n",
       " ('social media', 'NYDailyNews'),\n",
       " ('sustainability', 'MarkOrmerod4'),\n",
       " ('therapy', 'SLTatBCU')]"
      ]
     },
     "execution_count": 35,
     "metadata": {},
     "output_type": "execute_result"
    }
   ],
   "source": [
    "def community_influencers(G, nodes_community, communities, communities_count):\n",
    "    ''' input: G:nx.Graph \n",
    "               nodes_community:{node_id:community_id}\n",
    "               communities:[community_ids]\n",
    "               community_count:int\n",
    "       output: influencers:{community_id:node_id}\n",
    "    '''\n",
    "    influencers = {}\n",
    "    \n",
    "    # Add your code here\n",
    "\n",
    "    coms = {}\n",
    "\n",
    "    for node, com in nodes_community.items():\n",
    "        if com not in coms: \n",
    "            coms[com] = [node]\n",
    "        else: \n",
    "            coms[com].append(node)\n",
    "\n",
    "    for com, nodes in coms.items():\n",
    "        sub = G.subgraph(nodes)\n",
    "        res = nx.pagerank(sub)\n",
    "        influencers[com] = max(res.items(), key=lambda x : x[1])[0]\n",
    "    \n",
    "    return influencers\n",
    "\n",
    "influencers = community_influencers(G, nodes_community, communities, communities_count)\n",
    "sorted(influencers.items(), key=lambda x: x[0]) if influencers != {} else None # prints sorted results"
   ]
  },
  {
   "cell_type": "markdown",
   "metadata": {},
   "source": [
    "### 3.4 Connectivity-Based Community Ranking\n",
    "- Compute a meta graph where nodes are communities and edges denote inter-connections across communities. \n",
    "- Add the weights of the inter-connections as weights to the edges.\n",
    "- Compute `pagerank` on the meta graph.\n",
    "- Hint: `w_matrix` is the confusion matrix of the weights among the communities. `w_matrix` is not symmetric."
   ]
  },
  {
   "cell_type": "code",
   "execution_count": 36,
   "metadata": {},
   "outputs": [
    {
     "data": {
      "text/plain": [
       "[('medicine', 0.058478985222824964),\n",
       " ('innovation', 0.058478985222824964),\n",
       " ('biological', 0.058478985222824964),\n",
       " ('infection', 0.058478985222824964),\n",
       " ('artificial intelligence', 0.058478985222824964),\n",
       " ('geography', 0.058478985222824964),\n",
       " ('pathways', 0.058478985222824964),\n",
       " ('drones', 0.058478985222824964),\n",
       " ('climate change', 0.058478985222824964),\n",
       " ('economics', 0.058478985222824964),\n",
       " ('diabetes', 0.058478985222824964),\n",
       " ('entrepreneurship', 0.058478985222824964),\n",
       " ('architecture', 0.058478985222824964),\n",
       " ('physics', 0.058478985222824964),\n",
       " ('psychology', 0.058478985222824964),\n",
       " ('physicist', 0.00877251583268755),\n",
       " ('criminology', 0.00877251583268755),\n",
       " ('cancer', 0.00877251583268755),\n",
       " ('social media', 0.00877251583268755),\n",
       " ('healthcare', 0.00877251583268755),\n",
       " ('patients', 0.00877251583268755),\n",
       " ('astronomy', 0.00877251583268755),\n",
       " ('neuroscience', 0.00877251583268755),\n",
       " ('computer science', 0.00877251583268755),\n",
       " ('chemistry', 0.00877251583268755),\n",
       " ('robotics', 0.00877251583268755),\n",
       " ('cyber security', 0.00877251583268755),\n",
       " ('sustainability', 0.00877251583268755),\n",
       " ('cell', 0.00877251583268755)]"
      ]
     },
     "execution_count": 36,
     "metadata": {},
     "output_type": "execute_result"
    }
   ],
   "source": [
    "def connectivity_ranking(G, nodes_community, communities, communities_count):\n",
    "    ''' input: G:nx.Graph \n",
    "               nodes_community:{node_id:community_id}\n",
    "               communities:[community_ids]\n",
    "               community_count:int\n",
    "       output: communities_ranking:{community_id:ranking}\n",
    "\n",
    "    '''\n",
    "    communities_ranking = default_ranking.copy()\n",
    "    \n",
    "    meta_G = nx.Graph()\n",
    "    w_matrix = {c2:{c1:0 for c1 in communities} for c2 in communities}\n",
    "    for (n1, n2, weight) in G.edges(data='Weight'):\n",
    "        w_matrix[nodes_community[n1]][nodes_community[n2]] += weight\n",
    "\n",
    "    # Add your code here\n",
    "\n",
    "    for c1 in communities: \n",
    "        for c2 in communities: \n",
    "            if (c1 < c2): \n",
    "                weight = w_matrix[c1][c2] + w_matrix[c2][c1]\n",
    "                meta_G.add_edge(c1,c1, weight = weight)\n",
    "\n",
    "    communities_ranking = nx.pagerank(meta_G)\n",
    "        \n",
    "    return communities_ranking\n",
    "\n",
    "connectivity_ranking = connectivity_ranking(G, nodes_community, communities, communities_count)\n",
    "sorted(connectivity_ranking.items(), key=lambda x: x[1], reverse=True) if connectivity_ranking != default_ranking else None # prints sorted results"
   ]
  },
  {
   "cell_type": "markdown",
   "metadata": {},
   "source": [
    "### 3.5 Personalized Community Ranking\n",
    "- Compute, for each community, the **personalized pagerank** of their **influencers**, where the source nodes belong to the community **artificial intelligence**.\n",
    "- Hint: Useful function: `nx.pagerank()`; `personalization` parameter defines the probability of random jumping to a source node.\n"
   ]
  },
  {
   "cell_type": "code",
   "execution_count": 39,
   "metadata": {},
   "outputs": [
    {
     "data": {
      "text/plain": [
       "[('artificial intelligence', 0.011140783846488781),\n",
       " ('computer science', 0.005335564667709081),\n",
       " ('drones', 0.002668301801783272),\n",
       " ('psychology', 0.00038666783547183965),\n",
       " ('innovation', 1.888974187738975e-06),\n",
       " ('physicist', 1.781032880047745e-06),\n",
       " ('sustainability', 1.3852478099502922e-06),\n",
       " ('criminology', 1.0389358574629546e-06),\n",
       " ('medicine', 1.0389358574629546e-06),\n",
       " ('cancer', 1.0389358574629546e-06),\n",
       " ('biological', 1.0389358574629546e-06),\n",
       " ('geography', 1.0389358574629546e-06),\n",
       " ('pathways', 1.0389358574629546e-06),\n",
       " ('astronomy', 1.0389358574629546e-06),\n",
       " ('neuroscience', 1.0389358574629546e-06),\n",
       " ('chemistry', 1.0389358574629546e-06),\n",
       " ('climate change', 1.0389358574629546e-06),\n",
       " ('robotics', 1.0389358574629546e-06),\n",
       " ('cyber security', 1.0389358574629546e-06),\n",
       " ('economics', 1.0389358574629546e-06),\n",
       " ('diabetes', 1.0389358574629546e-06),\n",
       " ('therapy', 1.0389358574629546e-06),\n",
       " ('entrepreneurship', 1.0389358574629546e-06),\n",
       " ('architecture', 1.0389358574629546e-06),\n",
       " ('physics', 1.0389358574629546e-06),\n",
       " ('healthcare', 1.0389358574629544e-06),\n",
       " ('infection', 1.0389358574629536e-06),\n",
       " ('cell', 1.0389358574629536e-06),\n",
       " ('social media', 1.0389358574629493e-06),\n",
       " ('patients', 8.627388246747666e-07)]"
      ]
     },
     "execution_count": 39,
     "metadata": {},
     "output_type": "execute_result"
    }
   ],
   "source": [
    "def personalized_ranking(G, nodes_community, communities, communities_count):\n",
    "    ''' input: G:nx.Graph \n",
    "               nodes_community:{node_id:community_id}\n",
    "               communities:[community_ids]\n",
    "               community_count:int\n",
    "       output: communities_ranking:{community_id:ranking}\n",
    "\n",
    "    '''\n",
    "    communities_ranking = default_ranking.copy()\n",
    "    influencers = community_influencers(G, nodes_community, communities, communities_count)\n",
    "\n",
    "    # Add your code here\n",
    "\n",
    "    pers = {}\n",
    "\n",
    "    for node, com in nodes_community.items():\n",
    "        if com == 'artificial intelligence':\n",
    "            pers[node] = 1\n",
    "\n",
    "    for node, num in pers.items():\n",
    "        pers[node] = 1 / len(pers)\n",
    "\n",
    "    res = nx.pagerank(G, personalization=pers)\n",
    "\n",
    "    for com, inf in influencers.items():\n",
    "        communities_ranking[com] = res[inf]\n",
    "    \n",
    "    \n",
    "    return communities_ranking\n",
    " \n",
    "personalized_ranking = personalized_ranking(G, nodes_community, communities, communities_count)\n",
    "sorted(personalized_ranking.items(), key=lambda x: x[1], reverse=True) if personalized_ranking != default_ranking else None # prints sorted results"
   ]
  },
  {
   "cell_type": "markdown",
   "metadata": {},
   "source": [
    "### 3.6 TF-IDF Community Ranking\n",
    "- Treat each community as a document.\n",
    "- Treat **artificial intelligence** as a query.\n",
    "- Rank the documents (communities) based on their similarity to the query.\n",
    "- Hint: Useful function: `cosine_similarity()`."
   ]
  },
  {
   "cell_type": "code",
   "execution_count": 46,
   "metadata": {},
   "outputs": [
    {
     "name": "stdout",
     "output_type": "stream",
     "text": [
      "{'physicist': 0.0, 'criminology': 0.0, 'medicine': 0.0, 'cancer': 0.0, 'social media': 0.0, 'innovation': 0.0, 'biological': 0.0, 'infection': 0.0, 'artificial intelligence': 0.0, 'healthcare': 0.0, 'geography': 0.0, 'patients': 0.0, 'pathways': 0.0, 'astronomy': 0.0, 'drones': 0.0, 'neuroscience': 0.0, 'computer science': 0.0, 'chemistry': 0.0, 'climate change': 0.0, 'robotics': 0.0, 'cyber security': 0.0, 'sustainability': 0.0, 'economics': 0.0, 'cell': 0.0, 'diabetes': 0.0, 'therapy': 0.0, 'entrepreneurship': 0.0, 'architecture': 0.0, 'physics': 0.0, 'psychology': 0.0}\n"
     ]
    },
    {
     "data": {
      "text/plain": [
       "[('artificial intelligence', 0.7068757022922854),\n",
       " ('computer science', 0.14169348984508923),\n",
       " ('drones', 0.07668799151980993),\n",
       " ('healthcare', 0.03865830437106066),\n",
       " ('entrepreneurship', 0.029066620226410912),\n",
       " ('psychology', 0.028004719737482885),\n",
       " ('innovation', 0.022956806227871333),\n",
       " ('chemistry', 0.020437398639447997),\n",
       " ('architecture', 0.016237332693270577),\n",
       " ('climate change', 0.015432121569605767),\n",
       " ('cell', 0.009990447025505701),\n",
       " ('social media', 0.0009814851137806041),\n",
       " ('physicist', 0.0),\n",
       " ('criminology', 0.0),\n",
       " ('medicine', 0.0),\n",
       " ('cancer', 0.0),\n",
       " ('biological', 0.0),\n",
       " ('infection', 0.0),\n",
       " ('geography', 0.0),\n",
       " ('patients', 0.0),\n",
       " ('pathways', 0.0),\n",
       " ('astronomy', 0.0),\n",
       " ('neuroscience', 0.0),\n",
       " ('robotics', 0.0),\n",
       " ('cyber security', 0.0),\n",
       " ('sustainability', 0.0),\n",
       " ('economics', 0.0),\n",
       " ('diabetes', 0.0),\n",
       " ('therapy', 0.0),\n",
       " ('physics', 0.0)]"
      ]
     },
     "execution_count": 46,
     "metadata": {},
     "output_type": "execute_result"
    }
   ],
   "source": [
    "def tfidf_ranking(G, nodes_community, communities, communities_count):\n",
    "    ''' input: G:nx.Graph \n",
    "               nodes_community:{node_id:community_id}\n",
    "               communities:[community_ids]\n",
    "               community_count:int\n",
    "       output: communities_ranking:{community_id:ranking}\n",
    "\n",
    "    '''\n",
    "    communities_ranking = default_ranking.copy()\n",
    "\n",
    "    documents = [''] * communities_count\n",
    "    query = ['artificial inteligence']\n",
    "    \n",
    "    for n in nodes_community:\n",
    "        labels = ''.join([str(e[2]['Label'] + ' ')*e[2]['Weight'] for e in G.edges(n, data=True)])\n",
    "        documents[communities.index(nodes_community[n])] += labels\n",
    "\n",
    "    from sklearn.feature_extraction.text import TfidfVectorizer\n",
    "    from sklearn.metrics.pairwise import cosine_similarity\n",
    "\n",
    "    vec = TfidfVectorizer()\n",
    "\n",
    "    mat = vec.fit_transform(documents)\n",
    "\n",
    "    query = vec.transform(query)\n",
    "\n",
    "    sim = cosine_similarity(mat, query)\n",
    "\n",
    "    print(communities_ranking)\n",
    "\n",
    "    # Add your code here\n",
    "\n",
    "    for ii, (key, _) in enumerate(communities_ranking.items()):\n",
    "        communities_ranking[key] = sim[ii][0]\n",
    "    \n",
    "    return communities_ranking\n",
    "\n",
    "tfidf_ranking = tfidf_ranking(G, nodes_community, communities, communities_count)\n",
    "sorted(tfidf_ranking.items(), key=lambda x: x[1], reverse=True) if tfidf_ranking != default_ranking else None # prints sorted results"
   ]
  },
  {
   "cell_type": "markdown",
   "metadata": {},
   "source": [
    "### 3.7 Rankings Correlation\n",
    "- Consider `personalized_ranking`, `tfidf_ranking` and `AVG(connectivity_ranking, tfidf_ranking)`.\n",
    "- Compute the `3x3` correlation matrix.\n",
    "- Discuss which rankings correlate more and why."
   ]
  },
  {
   "cell_type": "code",
   "execution_count": 66,
   "metadata": {},
   "outputs": [
    {
     "data": {
      "text/plain": [
       "array([[1.        , 0.12557362, 0.34583106],\n",
       "       [0.12557362, 1.        , 0.93477922],\n",
       "       [0.34583106, 0.93477922, 1.        ]])"
      ]
     },
     "execution_count": 66,
     "metadata": {},
     "output_type": "execute_result"
    }
   ],
   "source": [
    "def compute_correlation(connectivity_ranking, personalized_ranking, tfidf_ranking):    \n",
    "    correlation = np.zeros([3,3])\n",
    "    \n",
    "    connectivity_ranking = [r[1] for r in sorted(connectivity_ranking.items(), key=lambda x: x[0])]\n",
    "    personalized_ranking = [r[1] for r in sorted(personalized_ranking.items(), key=lambda x: x[0])]\n",
    "    tfidf_ranking = [r[1] for r in sorted(tfidf_ranking.items(), key=lambda x: x[0])]\n",
    "    avg_connectivity_tfidf_ranking = [sum(x)/2 for x in zip(connectivity_ranking, tfidf_ranking)]\n",
    "    \n",
    "    # Add your code here    \n",
    "\n",
    "    array = np.zeros((len(connectivity_ranking), 3))\n",
    "\n",
    "    array[:,0] = connectivity_ranking    \n",
    "    array[:,1] = personalized_ranking[:-1]    \n",
    "    array[:,2] = avg_connectivity_tfidf_ranking  \n",
    "\n",
    "    correlation = np.corrcoef(array.transpose())\n",
    "\n",
    "    return correlation\n",
    "\n",
    "compute_correlation(connectivity_ranking, personalized_ranking, tfidf_ranking)"
   ]
  },
  {
   "cell_type": "markdown",
   "metadata": {},
   "source": [
    "***ANSWER:***"
   ]
  },
  {
   "cell_type": "markdown",
   "metadata": {},
   "source": [
    "## 4 [Submit  your Notebook](https://moodle.epfl.ch/mod/quiz/view.php?id=1026302)"
   ]
  }
 ],
 "metadata": {
  "kernelspec": {
   "display_name": "dis",
   "language": "python",
   "name": "python3"
  },
  "language_info": {
   "codemirror_mode": {
    "name": "ipython",
    "version": 3
   },
   "file_extension": ".py",
   "mimetype": "text/x-python",
   "name": "python",
   "nbconvert_exporter": "python",
   "pygments_lexer": "ipython3",
   "version": "3.10.9"
  },
  "name": "_merged",
  "toc": {
   "base_numbering": "0",
   "nav_menu": {},
   "number_sections": false,
   "sideBar": true,
   "skip_h1_title": true,
   "title_cell": "Table of Contents",
   "title_sidebar": "Table of Contents",
   "toc_cell": true,
   "toc_position": {},
   "toc_section_display": false,
   "toc_window_display": false
  },
  "vscode": {
   "interpreter": {
    "hash": "67b2dac036e870edddccadcf0a7859a73125fc584e582e34d6a822a4260f8464"
   }
  }
 },
 "nbformat": 4,
 "nbformat_minor": 2
}
