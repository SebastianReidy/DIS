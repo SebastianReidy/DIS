{
 "cells": [
  {
   "cell_type": "markdown",
   "metadata": {},
   "source": [
    "## 📚 Exercise 13: Entity & Relation Extraction"
   ]
  },
  {
   "cell_type": "markdown",
   "metadata": {},
   "source": [
    "### Task 1: Relation extraction from Wikipedia articles\n",
    "\n",
    "Use Wikipedia to extract the relation `directedBy(Movie, Person)` by applying pattern based heuristics that utilize: *Part Of Speech Tagging*, *Named Entity Recognition* and *Regular Expressions*.\n",
    "\n",
    "#### Required Library: SpaCy\n",
    "- ```conda install -y spacy```\n",
    "- ```python -m spacy download en```"
   ]
  },
  {
   "cell_type": "code",
   "execution_count": 1,
   "metadata": {},
   "outputs": [],
   "source": [
    "import urllib.request, json, csv, re\n",
    "import spacy\n",
    "from tqdm import tqdm \n",
    "nlp = spacy.load('en_core_web_sm')"
   ]
  },
  {
   "cell_type": "code",
   "execution_count": 2,
   "metadata": {},
   "outputs": [],
   "source": [
    "#read tsv with input movies\n",
    "def read_tsv():\n",
    "    movies=[]\n",
    "    with open('movies.tsv','r') as file:\n",
    "        tsv = csv.reader(file, delimiter='\\t')\n",
    "        next(tsv) #remove header\n",
    "        movies = [{'movie':line[0], 'director':line[1]} for line in tsv]\n",
    "    return movies\n",
    "\n",
    "#parse wikipedia page\n",
    "def parse_wikipedia(movie):\n",
    "    txt = ''\n",
    "    try:\n",
    "        with urllib.request.urlopen('https://en.wikipedia.org/w/api.php?format=json&action=query&prop=extracts&exintro=&explaintext=&titles='+movie) as url:\n",
    "            data = json.loads(url.read().decode())\n",
    "            txt = next (iter (data['query']['pages'].values()))['extract']\n",
    "    except:\n",
    "        pass\n",
    "    return txt"
   ]
  },
  {
   "cell_type": "markdown",
   "metadata": {},
   "source": [
    "#### 1) Parse the raw text of a Wikipedia movie page and extract named (PER) entities."
   ]
  },
  {
   "cell_type": "code",
   "execution_count": 3,
   "metadata": {},
   "outputs": [],
   "source": [
    "def find_PER_entities(txt):\n",
    "    persons = []\n",
    "    doc = nlp(txt)\n",
    "    for entity in doc.ents: \n",
    "        if entity.label_ == 'PERSON':\n",
    "            persons.append(entity.text)\n",
    "    return persons"
   ]
  },
  {
   "cell_type": "markdown",
   "metadata": {},
   "source": [
    "#### 2) Given the raw text of a Wikipedia movie page and the extracted PER entities, find the director."
   ]
  },
  {
   "cell_type": "code",
   "execution_count": 11,
   "metadata": {},
   "outputs": [],
   "source": [
    "# heuristic from the mulö: return the person after the word 'direct'\n",
    "def find_director(txt, persons):\n",
    "    doc = nlp(txt)\n",
    "    start = 0\n",
    "    for ii, token in enumerate(doc): \n",
    "        if token.lemma_ == 'direct': \n",
    "            start = ii \n",
    "            break\n",
    "\n",
    "    for ii in range(start, len(txt.split())):\n",
    "        for person in persons: \n",
    "            if person.startswith(txt.split()[ii]):\n",
    "                return person\n",
    "            \n",
    "    return ''"
   ]
  },
  {
   "cell_type": "code",
   "execution_count": 12,
   "metadata": {},
   "outputs": [
    {
     "data": {
      "text/plain": [
       "[{'movie': '13_Assassins_(2010_film)', 'director': 'Takashi Miike'},\n",
       " {'movie': '14_Blades', 'director': 'Daniel Lee'},\n",
       " {'movie': '22_Bullets', 'director': 'Richard Berry'},\n",
       " {'movie': 'The_A-Team_(film)', 'director': 'Joe Carnahan'},\n",
       " {'movie': 'Alien_vs_Ninja', 'director': 'Seiji Chiba'},\n",
       " {'movie': 'Bad_Blood_(2010_film)', 'director': 'Dennis Law'},\n",
       " {'movie': 'Bangkok_Knockout', 'director': 'Panna Rittikrai'},\n",
       " {'movie': 'Blades_of_Blood', 'director': 'Lee Joon-ik'},\n",
       " {'movie': 'The_Book_of_Eli', 'director': 'Allen Hughes'},\n",
       " {'movie': 'The_Bounty_Hunter_(2010_film)', 'director': 'Andy Tennant'}]"
      ]
     },
     "execution_count": 12,
     "metadata": {},
     "output_type": "execute_result"
    }
   ],
   "source": [
    "movies = read_tsv()\n",
    "movies[:10]"
   ]
  },
  {
   "cell_type": "code",
   "execution_count": 25,
   "metadata": {},
   "outputs": [
    {
     "name": "stderr",
     "output_type": "stream",
     "text": [
      "100%|██████████| 287/287 [02:27<00:00,  1.95it/s]\n"
     ]
    }
   ],
   "source": [
    "statements=[]\n",
    "tp = 0\n",
    "\n",
    "for m in tqdm(movies):\n",
    "\n",
    "        txt = parse_wikipedia(m['movie'])\n",
    "        persons = find_PER_entities(txt)\n",
    "        director = find_director(txt, persons)\n",
    "        \n",
    "        if director != '':\n",
    "            statements.append(m['movie'] + ' is directed by ' + director + '.')\n",
    "            if director == m['director']: \n",
    "                tp += 1 "
   ]
  },
  {
   "cell_type": "markdown",
   "metadata": {},
   "source": [
    "#### 3) Compute the precision and recall based on the given ground truth (column Director from tsv file) and show examples of statements that are extracted."
   ]
  },
  {
   "cell_type": "code",
   "execution_count": 26,
   "metadata": {},
   "outputs": [
    {
     "name": "stdout",
     "output_type": "stream",
     "text": [
      "Precision: 0.4777327935222672\n",
      "Recall: 0.41114982578397213\n",
      "\n",
      "***Sample Statements***\n",
      "['13_Assassins_(2010_film) is directed by Kōji Yakusho.', '14_Blades is directed by Donnie Yen.', '22_Bullets is directed by Jacky Imbert.', 'The_A-Team_(film) is directed by Carnahan.', 'Bad_Blood_(2010_film) is directed by Simon Yam.']\n"
     ]
    }
   ],
   "source": [
    "# compute precision and recall\n",
    "precision = tp / len(statements)\n",
    "recall = tp / len(movies)\n",
    "print ('Precision:',precision)\n",
    "print ('Recall:',recall)\n",
    "print('\\n***Sample Statements***')\n",
    "print(statements[:5])"
   ]
  },
  {
   "cell_type": "markdown",
   "metadata": {},
   "source": [
    "## Task 2: Named Entity Recognition using Hidden Markov Model\n",
    "\n",
    "\n",
    "Define a Hidden Markov Model (HMM) that recognizes Person (*PER*) entities.\n",
    "Particularly, your model must be able to recognize pairs of the form (*firstname lastname*) as *PER* entities.\n",
    "Using the given sentences as training and test set:"
   ]
  },
  {
   "cell_type": "code",
   "execution_count": 27,
   "metadata": {},
   "outputs": [],
   "source": [
    "training_set=['The best blues singer was Bobby Bland while Ray Charles pioneered soul music .', \\\n",
    "              'Bobby Bland was just a singer whereas Ray Charles was a pianist , songwriter and singer .' \\\n",
    "              'None of them lived in Chicago .']\n",
    "\n",
    "test_set=['Ray Charles was born in 1930 .', \\\n",
    "          'Bobby Bland was born the same year as Ray Charles .', \\\n",
    "          'Muddy Waters is the father of Chicago Blues .']"
   ]
  },
  {
   "cell_type": "markdown",
   "metadata": {},
   "source": [
    "#### 1) Annotate your training set with the labels I (for PER entities) and O (for non PER entities).\n",
    "\t\n",
    "    *Hint*: Represent the sentences as sequences of bigrams, and label each bigram.\n",
    "\tOnly bigrams that contain pairs of the form (*firstname lastname*) are considered as *PER* entities."
   ]
  },
  {
   "cell_type": "code",
   "execution_count": 28,
   "metadata": {},
   "outputs": [
    {
     "name": "stdout",
     "output_type": "stream",
     "text": [
      "Annotation\n",
      " ['O', 'O', 'O', 'O', 'O', 'I', 'O', 'O', 'I', 'O', 'O', 'O', 'O', 'I', 'O', 'O', 'O', 'O', 'O', 'O', 'I', 'O', 'O', 'O', 'O', 'O', 'O', 'O', 'O', 'O', 'O', 'O', 'O', 'O', 'O'] \n",
      "\n"
     ]
    }
   ],
   "source": [
    "#Bigram Representation\n",
    "def getBigrams(sents):\n",
    "    return [b[0]+' '+b[1] for l in sents for b in zip(l.split(' ')[:-1], l.split(' ')[1:])]\n",
    "\n",
    "bigrams = getBigrams(training_set)\n",
    "\n",
    "#Annotation\n",
    "PER = ['Bobby Bland', 'Ray Charles']\n",
    "annotations = []\n",
    "for b in bigrams:\n",
    "    annotations.append('I' if b in PER else 'O')\n",
    "print('Annotation\\n', annotations,'\\n')"
   ]
  },
  {
   "cell_type": "code",
   "execution_count": 33,
   "metadata": {},
   "outputs": [
    {
     "data": {
      "text/plain": [
       "['The best',\n",
       " 'best blues',\n",
       " 'blues singer',\n",
       " 'singer was',\n",
       " 'was Bobby',\n",
       " 'Bobby Bland',\n",
       " 'Bland while',\n",
       " 'while Ray',\n",
       " 'Ray Charles',\n",
       " 'Charles pioneered',\n",
       " 'pioneered soul',\n",
       " 'soul music',\n",
       " 'music .',\n",
       " 'Bobby Bland',\n",
       " 'Bland was',\n",
       " 'was just',\n",
       " 'just a',\n",
       " 'a singer',\n",
       " 'singer whereas',\n",
       " 'whereas Ray',\n",
       " 'Ray Charles',\n",
       " 'Charles was',\n",
       " 'was a',\n",
       " 'a pianist',\n",
       " 'pianist ,',\n",
       " ', songwriter',\n",
       " 'songwriter and',\n",
       " 'and singer',\n",
       " 'singer .None',\n",
       " '.None of',\n",
       " 'of them',\n",
       " 'them lived',\n",
       " 'lived in',\n",
       " 'in Chicago',\n",
       " 'Chicago .']"
      ]
     },
     "execution_count": 33,
     "metadata": {},
     "output_type": "execute_result"
    }
   ],
   "source": [
    "bigrams"
   ]
  },
  {
   "cell_type": "markdown",
   "metadata": {},
   "source": [
    "#### 2) Compute the transition and emission probabilities for the HMM (use smoothing parameter $\\lambda$=0.5).\n",
    "\n",
    "    *Hint*: For the emission probabilities you can utilize the morphology of the words that constitute a bigram (e.g., you can count their uppercase first characters)."
   ]
  },
  {
   "cell_type": "code",
   "execution_count": 35,
   "metadata": {},
   "outputs": [
    {
     "name": "stdout",
     "output_type": "stream",
     "text": [
      "Transition Probabilities\n",
      " {'P(I|start)': 0.014285714285714285, 'P(O|start)': 0.5142857142857142, 'P(O|O)': 0.39663865546218485, 'P(O|I)': 0.073109243697479, 'P(I|O)': 0.073109243697479, 'P(I|I)': 0.014285714285714285} \n",
      "\n",
      "Emission Probabilities\n",
      " {'P(2_upper|O)': 0.014285714285714285, 'P(2_upper|I)': 0.5142857142857142, 'P(1_upper|O)': 0.19075630252100842, 'P(1_upper|I)': 0.014285714285714285, 'P(0_upper|O)': 0.3378151260504202, 'P(0_upper|I)': 0.014285714285714285} \n",
      "\n"
     ]
    }
   ],
   "source": [
    "lambda_ = 0.5\n",
    "\n",
    "#Transition Probabilities\n",
    "transition_prob={}\n",
    "\n",
    "\n",
    "#Prior\n",
    "transition_prob['P(I|start)'] = lambda_*0 + (1-lambda_) * 1 / len(bigrams)\n",
    "transition_prob['P(O|start)'] = lambda_*1 + (1-lambda_) * 1 / len(bigrams)\n",
    "\n",
    "transition_prob['P(O|O)'] = lambda_*(26/34) + (1-lambda_) * 1 / len(bigrams)\n",
    "transition_prob['P(O|I)'] = lambda_*(4/34) + (1-lambda_) * 1/len(bigrams)\n",
    "transition_prob['P(I|O)'] = lambda_*(4/34) + (1-lambda_) * 1/len(bigrams)\n",
    "transition_prob['P(I|I)'] = lambda_*(0) + (1-lambda_) * 1/len(bigrams)\n",
    "\n",
    "print('Transition Probabilities\\n',transition_prob, '\\n')\n",
    "\n",
    "#Emission Probabilities\n",
    "emission_prob={}\n",
    "\n",
    "        \n",
    "default_emission = (1-lambda_)* 1 / len(bigrams)\n",
    "\n",
    "emission_prob['P(2_upper|O)'] = lambda_*0 + (1-lambda_) * 1 / len(bigrams)\n",
    "emission_prob['P(2_upper|I)'] = lambda_*1 + (1-lambda_) * 1 / len(bigrams)\n",
    "emission_prob['P(1_upper|O)'] = lambda_*12/34 + (1-lambda_) * 1 / len(bigrams)\n",
    "emission_prob['P(1_upper|I)'] = lambda_*0 + (1-lambda_) * 1 / len(bigrams)\n",
    "emission_prob['P(0_upper|O)'] = lambda_*22/34 + (1-lambda_) * 1 / len(bigrams)\n",
    "emission_prob['P(0_upper|I)'] = lambda_*0 + (1-lambda_) * 1 / len(bigrams)\n",
    "\n",
    "print('Emission Probabilities\\n', emission_prob, '\\n')"
   ]
  },
  {
   "cell_type": "markdown",
   "metadata": {},
   "source": [
    "#### 3) Predict the labels of the test set and compute the precision and the recall of your model."
   ]
  },
  {
   "cell_type": "code",
   "execution_count": 37,
   "metadata": {},
   "outputs": [],
   "source": [
    "def count_upper_first_char(bigram):\n",
    "    count=0\n",
    "    if bigram.split(' ')[0][0].isupper():\n",
    "        count+=1\n",
    "    if bigram.split(' ')[1][0].isupper():\n",
    "        count+=1\n",
    "    return count"
   ]
  },
  {
   "cell_type": "code",
   "execution_count": 38,
   "metadata": {},
   "outputs": [
    {
     "name": "stdout",
     "output_type": "stream",
     "text": [
      "Predicted Entities\n",
      " ['Ray Charles', 'Bobby Bland', 'Ray Charles', 'Muddy Waters', 'Chicago Blues'] \n",
      "\n"
     ]
    }
   ],
   "source": [
    "#Prediction\n",
    "bigrams = getBigrams(test_set)\n",
    "entities=[]\n",
    "prev_state='start'\n",
    "for b in bigrams:\n",
    "    I_prob = transition_prob['P(I|' + prev_state +')'] * emission_prob['P('+str(count_upper_first_char(b))+'_upper|I)']\n",
    "    O_prob = transition_prob['P(O|' + prev_state +')'] * emission_prob['P('+str(count_upper_first_char(b))+'_upper|O)']\n",
    "    \n",
    "    if O_prob > I_prob:\n",
    "        prev_state = 'O'\n",
    "    else:\n",
    "        entities.append(b)\n",
    "        prev_state = 'I'\n",
    "\n",
    "print('Predicted Entities\\n', entities, '\\n')"
   ]
  },
  {
   "cell_type": "markdown",
   "metadata": {},
   "source": [
    "Precision is *...%* while recall is *...%*. "
   ]
  },
  {
   "cell_type": "markdown",
   "metadata": {},
   "source": [
    "#### 4) Comment on how you can further improve this model."
   ]
  },
  {
   "attachments": {},
   "cell_type": "markdown",
   "metadata": {},
   "source": [
    "could also consider unigrams and do an averaging with bigrams in the last step. "
   ]
  }
 ],
 "metadata": {
  "kernelspec": {
   "display_name": "ada",
   "language": "python",
   "name": "python3"
  },
  "language_info": {
   "codemirror_mode": {
    "name": "ipython",
    "version": 3
   },
   "file_extension": ".py",
   "mimetype": "text/x-python",
   "name": "python",
   "nbconvert_exporter": "python",
   "pygments_lexer": "ipython3",
   "version": "3.9.15"
  },
  "toc": {
   "colors": {
    "hover_highlight": "#DAA520",
    "navigate_num": "#000000",
    "navigate_text": "#333333",
    "running_highlight": "#FF0000",
    "selected_highlight": "#FFD700",
    "sidebar_border": "#EEEEEE",
    "wrapper_background": "#FFFFFF"
   },
   "moveMenuLeft": true,
   "nav_menu": {
    "height": "228px",
    "width": "252px"
   },
   "navigate_menu": true,
   "number_sections": true,
   "sideBar": true,
   "threshold": 4,
   "toc_cell": false,
   "toc_section_display": "block",
   "toc_window_display": false,
   "widenNotebook": false
  },
  "vscode": {
   "interpreter": {
    "hash": "b3625d2e50f807a11475dd891f3a9c7562ba38e956b321c846757eb50e751d95"
   }
  }
 },
 "nbformat": 4,
 "nbformat_minor": 1
}
