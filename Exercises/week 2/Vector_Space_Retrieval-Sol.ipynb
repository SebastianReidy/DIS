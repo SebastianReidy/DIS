{
 "cells": [
  {
   "cell_type": "markdown",
   "metadata": {},
   "source": [
    "## 📚 Exercise 1 - Solutions"
   ]
  },
  {
   "cell_type": "code",
   "execution_count": 1,
   "metadata": {},
   "outputs": [
    {
     "name": "stderr",
     "output_type": "stream",
     "text": [
      "[nltk_data] Downloading package stopwords to\n",
      "[nltk_data]     /Users/sebastian/nltk_data...\n",
      "[nltk_data]   Package stopwords is already up-to-date!\n"
     ]
    }
   ],
   "source": [
    "from nltk.stem import PorterStemmer, WordNetLemmatizer\n",
    "import nltk\n",
    "from sklearn.feature_extraction.text import CountVectorizer, TfidfVectorizer\n",
    "from sklearn.metrics.pairwise import linear_kernel\n",
    "import string\n",
    "from nltk.corpus import stopwords\n",
    "import math\n",
    "from operator import itemgetter\n",
    "from collections import Counter\n",
    "nltk.download('stopwords')\n",
    "\n",
    "\n",
    "stemmer = PorterStemmer()\n",
    "\n",
    "# Tokenize, stem a document\n",
    "def tokenize(text):\n",
    "    text = \"\".join([ch for ch in text if ch not in string.punctuation])\n",
    "    tokens = nltk.word_tokenize(text)\n",
    "    return \" \".join([stemmer.stem(word.lower()) for word in tokens if word not in stopwords.words('english')])\n",
    "\n",
    "# Read a list of documents from a file. Each line in a file is a document\n",
    "with open(\"epfldocs.txt\", encoding='utf8') as f:\n",
    "    content = f.readlines()\n",
    "original_documents = [x.strip() for x in content] \n",
    "documents = [tokenize(d).split() for d in original_documents]\n",
    "\n",
    "# create the vocabulary\n",
    "vocabulary = list(set([item for sublist in documents for item in sublist]))\n",
    "vocabulary.sort()\n",
    "\n",
    "# compute IDF, storing idf values in a dictionary\n",
    "def idf_values(vocabulary, documents):\n",
    "    idf = {}\n",
    "    num_documents = len(documents)\n",
    "    for i, term in enumerate(vocabulary):\n",
    "        idf[term] = math.log(num_documents/sum(term in document for document in documents), math.e)\n",
    "    return idf\n",
    "\n",
    "# Function to generate the vector for a document (with normalisation)\n",
    "def vectorize(document, vocabulary, idf):\n",
    "    vector = [0]*len(vocabulary)\n",
    "    counts = Counter(document)\n",
    "    max_count = counts.most_common(1)[0][1]\n",
    "    for i,term in enumerate(vocabulary):\n",
    "        vector[i] = idf[term] * counts[term]/max_count\n",
    "    return vector\n",
    "\n",
    "# Compute IDF values and vectors\n",
    "idf = idf_values(vocabulary, documents)\n",
    "document_vectors = [vectorize(s, vocabulary, idf) for s in documents]\n",
    "\n",
    "# Function to compute cosine similarity\n",
    "def cosine_similarity(v1,v2):\n",
    "    sumxx, sumxy, sumyy = 0, 0, 0\n",
    "    for i in range(len(v1)):\n",
    "        x = v1[i]; y = v2[i]\n",
    "        sumxx += x*x\n",
    "        sumyy += y*y\n",
    "        sumxy += x*y\n",
    "    if sumxy == 0:\n",
    "            result = 0\n",
    "    else:\n",
    "            result = sumxy/math.sqrt(sumxx*sumyy)\n",
    "    return result\n",
    "\n",
    "# computing the search result\n",
    "def search_vec(query, topk=10):\n",
    "    q = query.split()\n",
    "    q = [stemmer.stem(w) for w in q]\n",
    "    query_vector = vectorize(q, vocabulary, idf)\n",
    "    scores = [[cosine_similarity(query_vector, document_vectors[d]), d] for d in range(len(documents))]\n",
    "    scores.sort(key=lambda x: -x[0])\n",
    "    doc_ids = []\n",
    "    for i in range(topk):\n",
    "        doc_ids.append(scores[i][1])\n",
    "    return doc_ids\n",
    "# HINTS\n",
    "\n",
    "# natural logarithm function\n",
    "#     math.log(n,math.e)\n",
    "# Function to count term frequencies in a document\n",
    "#     Counter(document)\n",
    "# most common elements for a list\n",
    "#     counts.most_common(1)"
   ]
  },
  {
   "cell_type": "code",
   "execution_count": 2,
   "metadata": {},
   "outputs": [
    {
     "name": "stdout",
     "output_type": "stream",
     "text": [
      "Exciting News: \"World University Rankings 2016-2017 by subject: computer science\" No1 @ETH &amp; @EPFL on No8. Congrats https://t.co/ARSlXZoShQ\n",
      "New computer model shows how proteins are controlled \"at a distance\" https://t.co/zNjK3bZ6mO  via @EPFL_en #VDtech https://t.co/b9TglXO4KD\n",
      "An interview with Patrick Barth, a new @EPFL professor who combines protein #biophysics with computer modeling https://t.co/iJwBaEbocj\n",
      "Video of Nicola Marzari from @EPFL_en  on Computational Discovery in the 21st Century during #PASC17 now online: https://t.co/tfCkEvYKtq https://t.co/httPdHcK9W\n",
      "New at @epfl_en Life Sciences @epflSV: \"From PhD directly to Independent Group Leader\" #ELFIR_EPFL:  Early Independence Research Scholars. See https://t.co/evqyqD7FFl, also for computational biology #compbio https://t.co/e3pDCg6NVb Deadline April 1 2018 at https://t.co/mJqcrfIqkb\n",
      "@CodeWeekEU is turning 5, yay! We look very much forward to computational thinking unplugged activities during @CodeWeek_CH https://t.co/yDPrlKg4hw\n",
      "Exposure Science Film Hackathon 2017 applications open! Come join our Scicomm-film-hacking event! #Science #scicomm https://t.co/zwtKPlh6HT\n",
      "Le mystère Soulages éblouit la science @EPFL  https://t.co/u3uNICyAdi\n",
      "Blue Brain Nexus: an open-source tool for data-driven science https://t.co/m5yTgXf7ym #epfl\n",
      "@cwarwarrior @EPFL_en @EPFL Doing science at @EPFL_en is indeed pretty cool!!! Thank you for visiting!!!\n"
     ]
    }
   ],
   "source": [
    "tf_doc_ids = search_vec('computer science')\n",
    "for i, v in enumerate(tf_doc_ids):\n",
    "    print(original_documents[v])"
   ]
  },
  {
   "cell_type": "code",
   "execution_count": 3,
   "metadata": {},
   "outputs": [],
   "source": [
    "# Retrieval oracle \n",
    "tf = TfidfVectorizer(analyzer='word', ngram_range=(1,1), min_df = 1, stop_words = 'english')\n",
    "features = tf.fit_transform(original_documents)\n",
    "npm_tfidf = features.todense()\n",
    "\n",
    "# Return all document ids that that have cosine similarity with the query larger than a threshold\n",
    "def search_vec_sklearn(query, features, threshold=0.1):\n",
    "    new_features = tf.transform([query])\n",
    "    cosine_similarities = linear_kernel(new_features, features).flatten()\n",
    "    related_docs_indices, cos_sim_sorted = zip(*sorted(enumerate(cosine_similarities), key=itemgetter(1), \n",
    "                                                       reverse=True))\n",
    "    doc_ids = []\n",
    "    for i, cos_sim in enumerate(cos_sim_sorted):\n",
    "        if cos_sim < threshold:\n",
    "            break\n",
    "        doc_ids.append(related_docs_indices[i])\n",
    "    return doc_ids"
   ]
  },
  {
   "cell_type": "code",
   "execution_count": 4,
   "metadata": {},
   "outputs": [
    {
     "name": "stdout",
     "output_type": "stream",
     "text": [
      "26\n",
      "Exciting News: \"World University Rankings 2016-2017 by subject: computer science\" No1 @ETH &amp; @EPFL on No8. Congrats https://t.co/ARSlXZoShQ\n",
      "New computer model shows how proteins are controlled \"at a distance\" https://t.co/zNjK3bZ6mO  via @EPFL_en #VDtech https://t.co/b9TglXO4KD\n",
      "An interview with Patrick Barth, a new @EPFL professor who combines protein #biophysics with computer modeling https://t.co/iJwBaEbocj\n",
      "Exposure Science Film Hackathon 2017 applications open! Come join our Scicomm-film-hacking event! #Science #scicomm https://t.co/zwtKPlh6HT\n",
      "Le mystère Soulages éblouit la science @EPFL  https://t.co/u3uNICyAdi\n",
      "@cwarwarrior @EPFL_en @EPFL Doing science at @EPFL_en is indeed pretty cool!!! Thank you for visiting!!!\n",
      "Blue Brain Nexus: an open-source tool for data-driven science https://t.co/m5yTgXf7ym #epfl\n",
      "Swiss Data Science on Twitter: \"Sign up for @EPFL_en #DataJamDays: learn more a… https://t.co/kNVILHWPGb, see more https://t.co/2wg3BbHBNq\n",
      "The registration for Exposure Science Film Hackathon 2017 is open! #scicomm #lausanne #epfl #unil https://t.co/mY5jlwsXUD\n",
      "Know someone who has promoted sound #science? Less than 2 weeks to nominate them for the #MaddoxPrize. https://t.co/POnZtf3vFT\n",
      "#sleep #neuroscience #Neurosciences #science Healthy mitochondria could stop Alzheimer's https://t.co/rioZv4axxN #epfl\n",
      "Its about Energy &amp; People ! Blue Brain Nexus: an open-source tool for data-driven science https://t.co/1kTFeYqZe6 #epfl\n",
      "Blue Brain Nexus: an open-source tool for data-driven science https://t.co/Hou5tl7RoJ  via @EPFL_en #VDtech https://t.co/eftNaVCNh6\n",
      "New report on risk of misuse of life science research https://t.co/6HaoSkJTmZ #epfl  @ScnatCH https://t.co/VmkwW0Q2Gq\n",
      "The internet is amplifying the popularity of irrational food fads. Time for some science, says @EPFL_en https://t.co/MPPlAaHJ3X\n",
      "Deep Learning on Graphs, the Christmas lecture of @EPFL_en's course A Network Tour of Data Science. https://t.co/0Ke069OMBn https://t.co/o84K23WBLm\n",
      "Today I visited my friend @wonderqueens at @EPFL_en who showed me around how unbelievably cool is this place for doing science 😍 Thanks!! https://t.co/kWDnn0UXMN\n",
      "Hey #ASHG17 trainees, looking for a postdoc in genomics? Come to Switzerland: lake, mountains, exciting science: https://t.co/JaQq6zQKdC\n",
      "Noir c'est noir? Les Outrenoirs de Pierre Soulages | CULTURE/ART/SCIENCE https://t.co/6ZTZov8ylH #epfl #epflcampus\n",
      "Blue Brain Nexus: An open-source knowledge graph for data-driven science https://t.co/XcrufBSg5a via @EPFL_en @EurekAlert @BlueBrainPjt @wake_sleep\n",
      "Data Science and Mobility Conference is co-organized by EPFL and SBB CFF FFS. 31 JANV 2018 https://t.co/PNAm80x8Tn - @EPFL https://t.co/4ldolDo6UW\n",
      "ETH Zürich und EPFL haben das Swiss Data Science Center eröffnet @ETH @EPFL_en @SDSCdatascience https://t.co/PdoHEAo9w6 https://t.co/OMaseBuL3L\n",
      "Interessanter Artikel von @MirkoBischBerg @EPFL aus Texas. #virtualreality #science #arts. Evolution der Maschinen https://t.co/dNOt4OimmV\n",
      "@MartinVetterli @EPFL setzt sich für open science ein. Wissen teilen für mehr Wirkung. https://t.co/4hMAZtA9Qa\n",
      "\"Art and science collisions\" - A presentation of art residence @CERN with Yunchul Kim and Helga Timko at @EPFL ----&gt; https://t.co/GT73OAEVOH\n",
      "Je rêve! même la science et l'innovation sont touchées par ce décret! Moyen-Age 2.0 #Trump #NoBanNoWall @EPFL https://t.co/gYcLIE4vHL @tdgch\n"
     ]
    }
   ],
   "source": [
    "ret_ids = search_vec_sklearn('computer science', features)\n",
    "print(len(ret_ids))\n",
    "for i, v in enumerate(ret_ids):\n",
    "    print(original_documents[v])"
   ]
  },
  {
   "cell_type": "code",
   "execution_count": 5,
   "metadata": {},
   "outputs": [
    {
     "name": "stdout",
     "output_type": "stream",
     "text": [
      "10\n"
     ]
    }
   ],
   "source": [
    "ret_ids = search_vec_sklearn('information systems', features)\n",
    "print(len(ret_ids))"
   ]
  },
  {
   "cell_type": "code",
   "execution_count": 6,
   "metadata": {},
   "outputs": [],
   "source": [
    "queries = [\"computer science\", \"IC School\", \"information systems\"]"
   ]
  },
  {
   "cell_type": "code",
   "execution_count": 7,
   "metadata": {},
   "outputs": [],
   "source": [
    "def compute_recall_at_k(predict, gt, k):\n",
    "    correct_recall = set(predict[:k]).intersection(set(gt))\n",
    "    return len(correct_recall)/len(gt)"
   ]
  },
  {
   "cell_type": "code",
   "execution_count": 8,
   "metadata": {},
   "outputs": [],
   "source": [
    "def compute_precision_at_k(predict, gt, k):\n",
    "    correct_predict = set(predict[:k]).intersection(set(gt))\n",
    "    return len(correct_predict)/k"
   ]
  },
  {
   "cell_type": "code",
   "execution_count": 9,
   "metadata": {},
   "outputs": [],
   "source": [
    "def compute_interpolated_precisions(prec_rec):\n",
    "    max_prec = []\n",
    "    current_rec = prec_rec[-1][1]\n",
    "    for k, (prec, rec) in enumerate(prec_rec):\n",
    "        max_p = prec\n",
    "        for j, (p, r) in enumerate(prec_rec[k+1:]):\n",
    "            if p > max_p and r >= rec:\n",
    "                max_p = p\n",
    "        max_prec.append(max_p)\n",
    "    return max_prec"
   ]
  },
  {
   "cell_type": "code",
   "execution_count": 10,
   "metadata": {},
   "outputs": [],
   "source": [
    "def compute_map(queries, K=10):\n",
    "    map_score = 0\n",
    "    prec_rec_dict = []\n",
    "    for i, query in enumerate(queries):\n",
    "        ap = 0\n",
    "        predict = search_vec(query, K)\n",
    "        gt = search_vec_sklearn(query, features)\n",
    "        prec_rec = []\n",
    "        for k in range(1, K+1):\n",
    "            precision_at_k = compute_precision_at_k(predict, gt, k)\n",
    "            recall_at_k = compute_recall_at_k(predict, gt, k)\n",
    "            prec_rec.append((precision_at_k, recall_at_k))\n",
    "        precs_int = compute_interpolated_precisions(prec_rec)\n",
    "        \n",
    "        # Sum interpolated precision only when recall increases\n",
    "        prev_r = 0\n",
    "        for j, p_r in enumerate(prec_rec):\n",
    "            rec = p_r[1]\n",
    "            if rec > prev_r:\n",
    "                ap += precs_int[j]\n",
    "            prev_r = rec\n",
    "        map_score += ap/len(gt)\n",
    "        prec_rec_dict.append(prec_rec)\n",
    "    map_score = map_score/len(queries)\n",
    "    return map_score, prec_rec_dict"
   ]
  },
  {
   "cell_type": "code",
   "execution_count": 11,
   "metadata": {},
   "outputs": [],
   "source": [
    "# Alternative solution\n",
    "def compute_map2(queries, K=10):\n",
    "    map_score = 0\n",
    "    for i, query in enumerate(queries):\n",
    "        predict = search_vec(query, K)\n",
    "        gt = search_vec_sklearn(query, features)\n",
    "        p_int = []\n",
    "        for k in range(K, 0, -1):\n",
    "            pk = compute_precision_at_k(predict, gt, k)\n",
    "            \n",
    "            # Compute interpolated precision\n",
    "            pint_k = max([pk] + p_int)\n",
    "            \n",
    "            # Prepend pint_k to p_int\n",
    "            p_int.insert(0, pint_k)\n",
    "        # Only consider precision values when retrieving a relevant document\n",
    "        p_int_relevant = sum(p_int[i] for i, retrieved in enumerate(predict) if retrieved in gt)\n",
    "        \n",
    "        # Divide by number of relevant documents\n",
    "        map_score += p_int_relevant / len(gt)\n",
    "    map_score = map_score / len(queries)\n",
    "    return map_score"
   ]
  },
  {
   "cell_type": "code",
   "execution_count": 12,
   "metadata": {},
   "outputs": [],
   "source": [
    "map_score, _ = compute_map(queries, K=10)"
   ]
  },
  {
   "cell_type": "code",
   "execution_count": 13,
   "metadata": {},
   "outputs": [
    {
     "data": {
      "text/plain": [
       "0.34769230769230774"
      ]
     },
     "execution_count": 13,
     "metadata": {},
     "output_type": "execute_result"
    }
   ],
   "source": [
    "map_score"
   ]
  },
  {
   "cell_type": "code",
   "execution_count": 14,
   "metadata": {},
   "outputs": [
    {
     "data": {
      "text/plain": [
       "0.34769230769230774"
      ]
     },
     "execution_count": 14,
     "metadata": {},
     "output_type": "execute_result"
    }
   ],
   "source": [
    "compute_map2(queries, K=10)"
   ]
  },
  {
   "cell_type": "code",
   "execution_count": 15,
   "metadata": {},
   "outputs": [],
   "source": [
    "import matplotlib\n",
    "import matplotlib.pyplot as plt\n",
    "\n",
    "prec = [1.0, 0.5, 2/3, 2/4, 3/5, 4/6, 4/7, 4/8, 5/9, 6/10, 7/11 , 7/12, 8/13, 8/14  ]\n",
    "rec = [1/100, 1/100, 2/100, 2/100, 3/100, 4/100, 4/100, 4/100, 5/100, 6/100, 7/100, 7/100, 8/100, 8/100]\n",
    "def draw_scatter(prec, rec, prec_int=None):\n",
    "    fig, ax = plt.subplots()\n",
    "    ax.xaxis.grid(True)    \n",
    "    ax.plot(rec,prec,zorder=2) \n",
    "#     ax.scatter(rec,prec,zorder=1,c=relevant,cmap=plt.cm.RdYlGn,s=100)\n",
    "    ax.scatter(rec,prec,zorder=1,s=100)\n",
    "    if prec_int==None:\n",
    "        prec_int = compute_interpolated_precisions(list(zip(prec, rec)))\n",
    "    ax.plot(rec, prec_int, zorder=2)\n",
    "    ax.scatter(rec,prec_int,zorder=1,s=100)\n",
    "    ax.set(xlabel='Recall', ylabel='Precision',\n",
    "           title='Prec-Recall')\n",
    "    ax.xaxis.set_major_formatter(plt.NullFormatter())\n",
    "\n",
    "    ax.set_ylim([0.1,1.1])\n",
    "    fig.savefig(\"prec_rec.png\")\n",
    "\n",
    "    plt.show()"
   ]
  },
  {
   "cell_type": "code",
   "execution_count": 16,
   "metadata": {
    "scrolled": true
   },
   "outputs": [
    {
     "data": {
      "image/png": "[encoded data removed]",
      "text/plain": [
       "<Figure size 640x480 with 1 Axes>"
      ]
     },
     "metadata": {},
     "output_type": "display_data"
    }
   ],
   "source": [
    "draw_scatter(prec, rec)"
   ]
  },
  {
   "cell_type": "code",
   "execution_count": null,
   "metadata": {},
   "outputs": [],
   "source": []
  }
 ],
 "metadata": {
  "kernelspec": {
   "display_name": "Python 3.9.12 ('base')",
   "language": "python",
   "name": "python3"
  },
  "language_info": {
   "codemirror_mode": {
    "name": "ipython",
    "version": 3
   },
   "file_extension": ".py",
   "mimetype": "text/x-python",
   "name": "python",
   "nbconvert_exporter": "python",
   "pygments_lexer": "ipython3",
   "version": "3.9.15 (main, Nov  4 2022, 11:11:31) \n[Clang 12.0.0 ]"
  },
  "vscode": {
   "interpreter": {
    "hash": "0342ec1e726abc401ff31a289c96ceabd6ba6f02cfbaf74ce2cfcd829be9f0a5"
   }
  }
 },
 "nbformat": 4,
 "nbformat_minor": 4
}
