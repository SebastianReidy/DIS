{
 "cells": [
  {
   "cell_type": "markdown",
   "metadata": {},
   "source": [
    "# Graph Mining"
   ]
  },
  {
   "cell_type": "markdown",
   "metadata": {
    "collapsed": true
   },
   "source": [
    "## 📚 Exercise 1\n",
    "Complete the function `compute_modularity` to compute the modularity measure of a given graph.\n",
    "\n",
    "### Goal:\n",
    "1. Visualizing two graphs using `networkx` (the Karate Club graph is currently commented out in the code)\n",
    "2. Completing `compute_modularity` function that aims to measure modularity of a given graph\n",
    "\n",
    "### What you are learning in this exercise:\n",
    "1. Getting familiar with `networkx` library.\n",
    "2. Analyzing modularity measure for different graph inputs\n",
    "\n",
    "#### Hint: you can install `networkx` package by running the following command in a  notebook cell: `!conda install networkx --yes `"
   ]
  },
  {
   "cell_type": "code",
   "execution_count": 1,
   "metadata": {},
   "outputs": [
    {
     "data": {
      "image/png": "[encoded data removed]",
      "text/plain": [
       "<Figure size 640x480 with 1 Axes>"
      ]
     },
     "metadata": {},
     "output_type": "display_data"
    }
   ],
   "source": [
    "import networkx as nx\n",
    "import numpy as np\n",
    "\n",
    "%matplotlib inline\n",
    "\n",
    "M = [\"0,1,2\",\n",
    "\"1,0,2\",\n",
    "\"2,0,1,3\",\n",
    "\"3,2,4,5\",\n",
    "\"4,3,5\",\n",
    "\"5,3,4\"\n",
    "    ]\n",
    "G=nx.parse_adjlist(M, nodetype=int, delimiter=\",\")\n",
    "nx.draw(G)\n",
    "\n",
    "#G = nx.karate_club_graph()\n",
    "#nx.draw(G)"
   ]
  },
  {
   "cell_type": "code",
   "execution_count": 2,
   "metadata": {},
   "outputs": [
    {
     "data": {
      "text/plain": [
       "7"
      ]
     },
     "execution_count": 2,
     "metadata": {},
     "output_type": "execute_result"
    }
   ],
   "source": [
    "for node in [0,1,2]:\n",
    "    G.nodes[node]['community'] = 0\n",
    "for node in [3,4,5]:\n",
    "    G.nodes[node]['community'] = 1\n",
    "len(G.edges)"
   ]
  },
  {
   "cell_type": "code",
   "execution_count": 3,
   "metadata": {},
   "outputs": [],
   "source": [
    "# The degree of a node: G.degree[node_id]\n",
    "# The neighbors of a node: G.neighbors(node_id)\n",
    "# Number of edges between 2 nodes: G.number_of_edges(node_1, node_2)\n",
    "def compute_modularity(G, nodes_community):\n",
    "    ''' input: G:nx.Graph \n",
    "               nodes_community:{node_id:community_id}\n",
    "       output: Q (modularity metric)\n",
    "    '''\n",
    "    Q = 0\n",
    "    \n",
    "    m = len(G.edges)\n",
    "    for node_i in G.nodes:\n",
    "        for node_j in G.nodes:\n",
    "            if nodes_community[node_i] == nodes_community[node_j]:\n",
    "                Q += G.number_of_edges(node_i, node_j) - G.degree[node_i]*G.degree[node_j]/(2*m)\n",
    "    Q = Q/(2*m)\n",
    "\n",
    "    return Q "
   ]
  },
  {
   "cell_type": "code",
   "execution_count": 4,
   "metadata": {},
   "outputs": [
    {
     "name": "stdout",
     "output_type": "stream",
     "text": [
      "0.3571428571428571\n"
     ]
    }
   ],
   "source": [
    "nodes_community = {}\n",
    "for node in G.nodes():\n",
    "    nodes_community[node] = G.nodes[node]['community']\n",
    "Q = compute_modularity(G, nodes_community)\n",
    "print(Q)"
   ]
  },
  {
   "cell_type": "markdown",
   "metadata": {},
   "source": [
    "## 📚 Exercise 2\n",
    "Suppose that you have an undirected social graph G = (U, V), where U - set of nodes, V - set of edges.\n",
    "\n",
    "<img src=\"graph.png\" width=\"400\">\n",
    "\n",
    "Compute betweenness for the graph G and output the communities for the following betweenness threshold : 4, 6."
   ]
  },
  {
   "cell_type": "markdown",
   "metadata": {},
   "source": [
    "#### SOLUTION\n",
    "\n",
    "Following the Girvan- Newman algorithm, first we visit each node X once and compute the number of shortest paths from X to each of the other nodes. To do so, we run BFS starting at node X.\n",
    "\n",
    "##### Compute Betweenness - Path Counting:\n",
    "\n",
    "Let’s assume we start from the node E. Label each node by the number of shortest paths that reach it from the root ($N_{shortest}$). So, we label the root with 1. We continue top-down. D and F have one parent so they are labeled by the score of their parent. Similarly for B, A and C. However, G has two parents, thus its label is equal to 2. Finally, we need to calculate for each edge e the fraction of shortest paths from X to Y that go through e, e.g., from E to all other nodes.\n",
    "\n",
    "![alt text](path.png \"Title\")\n",
    "\n",
    "#### Compute Betweenness - Edge Flow:\n",
    "\n",
    "1. The flow that arrives at every node is 1.\n",
    "2. In addition each node receives the flow of its children. The flow of its children is distributed over the parents, proportionally to the number of paths that are leading to those parents (previous stage). For example: B: 1 + (1+1) = 3. F = 1 + (½) = 1.5\n",
    "\n",
    "![alt text](flow.png \"Title\")\n",
    "\n",
    "To complete the calculation we need to apply the procedure to every node as the root and sum the contributions. Finally, we need to divide the credit for each edge by 2 since every shortest path is discovered twice, once for each of its endpoints. The final betweenness scores for the edges are the following. \n",
    "\n",
    "![alt text](flow2.png \"Title\")\n",
    "\n",
    "Thus, we obtain the following clusters for the betweenness of 4 and 6.\n",
    "\n",
    "![alt text](b4.png \"Title\")\n",
    "\n",
    "![alt text](b6.png \"Title\")\n"
   ]
  },
  {
   "cell_type": "markdown",
   "metadata": {},
   "source": []
  }
 ],
 "metadata": {
  "kernelspec": {
   "display_name": "Python 3.9.13 ('ada')",
   "language": "python",
   "name": "python3"
  },
  "language_info": {
   "codemirror_mode": {
    "name": "ipython",
    "version": 3
   },
   "file_extension": ".py",
   "mimetype": "text/x-python",
   "name": "python",
   "nbconvert_exporter": "python",
   "pygments_lexer": "ipython3",
   "version": "3.9.13"
  },
  "vscode": {
   "interpreter": {
    "hash": "b3625d2e50f807a11475dd891f3a9c7562ba38e956b321c846757eb50e751d95"
   }
  }
 },
 "nbformat": 4,
 "nbformat_minor": 2
}
