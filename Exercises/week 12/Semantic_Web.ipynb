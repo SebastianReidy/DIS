{
 "cells": [
  {
   "cell_type": "markdown",
   "metadata": {},
   "source": [
    "# 📚 Exercise 12: Semantic Web\n",
    "\n",
    "In this exercise, we will understand the functioning of RDF statements and their applications.\n",
    "\n",
    "## Overview:\n",
    "You are an engineer parsing ancient greek literature. You are overwhelmed by the mythical heroes and their stories, that you decide to put structure on this textual knowledge. You will need to parse the given sentences and create a Knowledge Graph that represents the information of the text to be easily searched.\n",
    "\n",
    "## Goal:\n",
    "1. Create a Knowledge Graph from a given text.\n",
    "2. Perform queries on the KG.\n",
    "3. Insert new knowledge and re-run queries.\n",
    "\n",
    "## What are you learning in this exercise:\n",
    "- Conceptualize and apply the RDF creation derived from the text.\n",
    "- Run queries on Knowledge Graphs."
   ]
  },
  {
   "cell_type": "markdown",
   "metadata": {},
   "source": [
    "### Task 1: Create a Knowledge Graph\n",
    "\n",
    "Consider the following sentences:\n",
    "\n",
    "```Aphrodite and Eros are Gods.```\n",
    "\n",
    "```Aphrodite is a parent of Eros.```\n",
    "\n",
    "```Aphrodite is beautiful.```\n",
    "\n",
    "```Aphrodite is happy.```"
   ]
  },
  {
   "cell_type": "markdown",
   "metadata": {},
   "source": [
    "> #### 1) Formalize these sentences as RDF statements. Use a python dictionary to indicate the *subject*, *predicate* and *object* of a statement."
   ]
  },
  {
   "cell_type": "code",
   "execution_count": 1,
   "metadata": {},
   "outputs": [],
   "source": [
    "statements = []\n",
    "#statement template: {'s':'', 'p':'', 'o':''}\n",
    "# ---- YOUR CODE HERE -----\n",
    "statements.append({'s': 'aphrodite', 'p':'isa', 'o':'god'}) \n",
    "statements.append({'s': 'eros', 'p':'isa', 'o':'god'}) \n",
    "statements.append({'s': 'aphrodite', 'p': 'isParentOf', 'o':'eros'})\n",
    "statements.append({'s': 'aphrodite', 'p':'isa', 'o':'beautiful'})\n",
    "statements.append({'s': 'aphrodite', 'p':'isa', 'o':'happy'})\n",
    "# -------------------------"
   ]
  },
  {
   "cell_type": "markdown",
   "metadata": {},
   "source": [
    "> #### 2) Specify which are the *classes*, the *instances* and the *properties* in the above statements.\n"
   ]
  },
  {
   "cell_type": "markdown",
   "metadata": {},
   "source": [
    "- Classes: god, beautiful, happy \n",
    "- Instances: aphrodite and eros\n",
    "- Properties: isa, isParentOf"
   ]
  },
  {
   "cell_type": "markdown",
   "metadata": {},
   "source": [
    "> #### 3) Pose the following query to your Knowledge Graph and show the results.\n",
    "    Who is happy?"
   ]
  },
  {
   "cell_type": "code",
   "execution_count": 2,
   "metadata": {},
   "outputs": [
    {
     "name": "stdout",
     "output_type": "stream",
     "text": [
      "['aphrodite']\n"
     ]
    }
   ],
   "source": [
    "def query():\n",
    "    results = []\n",
    "    # ---- YOUR CODE HERE -----\n",
    "    for statement in statements: \n",
    "        if statement['o'] == 'happy': \n",
    "            results.append(statement['s'])\n",
    "    # -------------------------\n",
    "    print(results)\n",
    "\n",
    "query()"
   ]
  },
  {
   "cell_type": "markdown",
   "metadata": {},
   "source": [
    "### Task 2: Derive new Knowledge\n",
    "\n",
    "Now consider the following inference rules:\n",
    "\n",
    "``` Every person is happy if one of his/her parents is successful. ```\n",
    "\n",
    "``` All happy persons are successful. ```"
   ]
  },
  {
   "cell_type": "markdown",
   "metadata": {},
   "source": [
    "> #### 1) Transform and apply them to your Knowledge Graph. Include the new statements that will be derived in the Knowledge Graph."
   ]
  },
  {
   "cell_type": "code",
   "execution_count": 5,
   "metadata": {},
   "outputs": [],
   "source": [
    "def inference():\n",
    "    \n",
    "    new_statements = True\n",
    "\n",
    "    while (new_statements):\n",
    "        new_statements = False\n",
    "        \n",
    "        # ---- YOUR CODE HERE -----\n",
    "\n",
    "        for statement in statements: \n",
    "            if statement['p'] == 'isParentOf': # rule 1 \n",
    "                parent = statement['s']\n",
    "                \n",
    "                for s in statements:\n",
    "                    if s['s'] == parent and s['o'] == 'successful' and s['p'] == 'isa': \n",
    "                        new_statement = {'s': statement['o'], 'p': 'isa', 'o':'happy'}\n",
    "                        if new_statement not in statements: \n",
    "                            statements.append(new_statement)\n",
    "                            new_statements = True\n",
    "\n",
    "            if statement['p'] == 'isa' and statement['o'] == 'happy':  # second rule\n",
    "                new_statement = {'s':statement['s'], 'p':'isa', 'o':'successful'}\n",
    "                if new_statement not in statements: \n",
    "                    statements.append(new_statement)\n",
    "                    new_statements = True\n",
    "        # -------------------------"
   ]
  },
  {
   "cell_type": "markdown",
   "metadata": {},
   "source": [
    "> #### 2) Give an example of a rule that would bring incosistency in the Knowledge Graph. \n",
    ">> e.g. all childern are unhappy SOLUTION: a person is not successful if one of her parents is successful"
   ]
  },
  {
   "cell_type": "markdown",
   "metadata": {},
   "source": [
    "..."
   ]
  },
  {
   "cell_type": "markdown",
   "metadata": {},
   "source": [
    "> #### 3) Pose again the query from Question 3 of Task 1. Are you getting the same results?"
   ]
  },
  {
   "cell_type": "code",
   "execution_count": 9,
   "metadata": {},
   "outputs": [
    {
     "name": "stdout",
     "output_type": "stream",
     "text": [
      "['aphrodite', 'eros']\n"
     ]
    }
   ],
   "source": [
    "inference()\n",
    "query()"
   ]
  },
  {
   "cell_type": "markdown",
   "metadata": {},
   "source": [
    "Credits @ [Knowledge Technologies (PMS509)](http://cgi.di.uoa.gr/~pms509)"
   ]
  }
 ],
 "metadata": {
  "kernelspec": {
   "display_name": "Python 3.9.15 ('ada')",
   "language": "python",
   "name": "python3"
  },
  "language_info": {
   "codemirror_mode": {
    "name": "ipython",
    "version": 3
   },
   "file_extension": ".py",
   "mimetype": "text/x-python",
   "name": "python",
   "nbconvert_exporter": "python",
   "pygments_lexer": "ipython3",
   "version": "3.9.15"
  },
  "toc": {
   "colors": {
    "hover_highlight": "#DAA520",
    "navigate_num": "#000000",
    "navigate_text": "#333333",
    "running_highlight": "#FF0000",
    "selected_highlight": "#FFD700",
    "sidebar_border": "#EEEEEE",
    "wrapper_background": "#FFFFFF"
   },
   "moveMenuLeft": true,
   "nav_menu": {
    "height": "228px",
    "width": "252px"
   },
   "navigate_menu": true,
   "number_sections": true,
   "sideBar": true,
   "threshold": 4,
   "toc_cell": false,
   "toc_section_display": "block",
   "toc_window_display": false,
   "widenNotebook": false
  },
  "vscode": {
   "interpreter": {
    "hash": "b3625d2e50f807a11475dd891f3a9c7562ba38e956b321c846757eb50e751d95"
   }
  }
 },
 "nbformat": 4,
 "nbformat_minor": 1
}
